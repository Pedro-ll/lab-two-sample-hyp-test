{
 "cells": [
  {
   "cell_type": "markdown",
   "metadata": {},
   "source": [
    "# Before your start:\n",
    "- Read the README.md file\n",
    "- Comment as much as you can and use the resources (README.md file)\n",
    "- Happy learning!\n",
    "\n",
    "- **Consider a significance level of 5% for all tests.**"
   ]
  },
  {
   "cell_type": "code",
   "execution_count": 29,
   "metadata": {},
   "outputs": [],
   "source": [
    "# import numpy and pandas\n",
    "\n",
    "import numpy as np\n",
    "import pandas as pd\n",
    "from scipy import stats as st\n"
   ]
  },
  {
   "cell_type": "markdown",
   "metadata": {},
   "source": [
    "# Challenge 1 - Independent Sample T-tests\n",
    "\n",
    "In this challenge, we will be using the Pokemon dataset. Before applying statistical methods to this data, let's first examine the data.\n",
    "\n",
    "To load the data, run the code below."
   ]
  },
  {
   "cell_type": "code",
   "execution_count": 8,
   "metadata": {},
   "outputs": [],
   "source": [
    "# Run this code:\n",
    "\n",
    "pokemon = pd.read_csv('../pokemon.csv')"
   ]
  },
  {
   "cell_type": "markdown",
   "metadata": {},
   "source": [
    "Let's start off by looking at the `head` function in the cell below."
   ]
  },
  {
   "cell_type": "code",
   "execution_count": 10,
   "metadata": {},
   "outputs": [
    {
     "data": {
      "text/html": [
       "<div>\n",
       "<style scoped>\n",
       "    .dataframe tbody tr th:only-of-type {\n",
       "        vertical-align: middle;\n",
       "    }\n",
       "\n",
       "    .dataframe tbody tr th {\n",
       "        vertical-align: top;\n",
       "    }\n",
       "\n",
       "    .dataframe thead th {\n",
       "        text-align: right;\n",
       "    }\n",
       "</style>\n",
       "<table border=\"1\" class=\"dataframe\">\n",
       "  <thead>\n",
       "    <tr style=\"text-align: right;\">\n",
       "      <th></th>\n",
       "      <th>#</th>\n",
       "      <th>Name</th>\n",
       "      <th>Type 1</th>\n",
       "      <th>Type 2</th>\n",
       "      <th>Total</th>\n",
       "      <th>HP</th>\n",
       "      <th>Attack</th>\n",
       "      <th>Defense</th>\n",
       "      <th>Sp. Atk</th>\n",
       "      <th>Sp. Def</th>\n",
       "      <th>Speed</th>\n",
       "      <th>Generation</th>\n",
       "      <th>Legendary</th>\n",
       "    </tr>\n",
       "  </thead>\n",
       "  <tbody>\n",
       "    <tr>\n",
       "      <th>0</th>\n",
       "      <td>1</td>\n",
       "      <td>Bulbasaur</td>\n",
       "      <td>Grass</td>\n",
       "      <td>Poison</td>\n",
       "      <td>318</td>\n",
       "      <td>45</td>\n",
       "      <td>49</td>\n",
       "      <td>49</td>\n",
       "      <td>65</td>\n",
       "      <td>65</td>\n",
       "      <td>45</td>\n",
       "      <td>1</td>\n",
       "      <td>False</td>\n",
       "    </tr>\n",
       "    <tr>\n",
       "      <th>1</th>\n",
       "      <td>2</td>\n",
       "      <td>Ivysaur</td>\n",
       "      <td>Grass</td>\n",
       "      <td>Poison</td>\n",
       "      <td>405</td>\n",
       "      <td>60</td>\n",
       "      <td>62</td>\n",
       "      <td>63</td>\n",
       "      <td>80</td>\n",
       "      <td>80</td>\n",
       "      <td>60</td>\n",
       "      <td>1</td>\n",
       "      <td>False</td>\n",
       "    </tr>\n",
       "    <tr>\n",
       "      <th>2</th>\n",
       "      <td>3</td>\n",
       "      <td>Venusaur</td>\n",
       "      <td>Grass</td>\n",
       "      <td>Poison</td>\n",
       "      <td>525</td>\n",
       "      <td>80</td>\n",
       "      <td>82</td>\n",
       "      <td>83</td>\n",
       "      <td>100</td>\n",
       "      <td>100</td>\n",
       "      <td>80</td>\n",
       "      <td>1</td>\n",
       "      <td>False</td>\n",
       "    </tr>\n",
       "    <tr>\n",
       "      <th>3</th>\n",
       "      <td>3</td>\n",
       "      <td>VenusaurMega Venusaur</td>\n",
       "      <td>Grass</td>\n",
       "      <td>Poison</td>\n",
       "      <td>625</td>\n",
       "      <td>80</td>\n",
       "      <td>100</td>\n",
       "      <td>123</td>\n",
       "      <td>122</td>\n",
       "      <td>120</td>\n",
       "      <td>80</td>\n",
       "      <td>1</td>\n",
       "      <td>False</td>\n",
       "    </tr>\n",
       "    <tr>\n",
       "      <th>4</th>\n",
       "      <td>4</td>\n",
       "      <td>Charmander</td>\n",
       "      <td>Fire</td>\n",
       "      <td>NaN</td>\n",
       "      <td>309</td>\n",
       "      <td>39</td>\n",
       "      <td>52</td>\n",
       "      <td>43</td>\n",
       "      <td>60</td>\n",
       "      <td>50</td>\n",
       "      <td>65</td>\n",
       "      <td>1</td>\n",
       "      <td>False</td>\n",
       "    </tr>\n",
       "  </tbody>\n",
       "</table>\n",
       "</div>"
      ],
      "text/plain": [
       "   #                   Name Type 1  Type 2  Total  HP  Attack  Defense  \\\n",
       "0  1              Bulbasaur  Grass  Poison    318  45      49       49   \n",
       "1  2                Ivysaur  Grass  Poison    405  60      62       63   \n",
       "2  3               Venusaur  Grass  Poison    525  80      82       83   \n",
       "3  3  VenusaurMega Venusaur  Grass  Poison    625  80     100      123   \n",
       "4  4             Charmander   Fire     NaN    309  39      52       43   \n",
       "\n",
       "   Sp. Atk  Sp. Def  Speed  Generation  Legendary  \n",
       "0       65       65     45           1      False  \n",
       "1       80       80     60           1      False  \n",
       "2      100      100     80           1      False  \n",
       "3      122      120     80           1      False  \n",
       "4       60       50     65           1      False  "
      ]
     },
     "execution_count": 10,
     "metadata": {},
     "output_type": "execute_result"
    }
   ],
   "source": [
    "# Your code here:\n",
    "pokemon.head()"
   ]
  },
  {
   "cell_type": "markdown",
   "metadata": {},
   "source": [
    "The first thing we would like to do is compare the legendary Pokemon to the regular Pokemon. To do this, we should examine the data further. What is the count of legendary vs. non legendary Pokemons?"
   ]
  },
  {
   "cell_type": "code",
   "execution_count": 20,
   "metadata": {},
   "outputs": [
    {
     "name": "stdout",
     "output_type": "stream",
     "text": [
      "65\n",
      "735\n"
     ]
    }
   ],
   "source": [
    "# Your code here:\n",
    "\n",
    "legendary=pokemon[pokemon[\"Legendary\"]]\n",
    "non_legendary=pokemon[~pokemon[\"Legendary\"]]\n",
    "\n",
    "print(legendary[\"Name\"].count())\n",
    "print(non_legendary[\"Name\"].count())"
   ]
  },
  {
   "cell_type": "markdown",
   "metadata": {},
   "source": [
    "Compute the mean and standard deviation of the total points for both legendary and non-legendary Pokemon."
   ]
  },
  {
   "cell_type": "code",
   "execution_count": 24,
   "metadata": {},
   "outputs": [
    {
     "name": "stdout",
     "output_type": "stream",
     "text": [
      "637.3846153846154 417.21360544217686\n"
     ]
    }
   ],
   "source": [
    "# Your code here:\n",
    "lengedary_mean=legendary[\"Total\"].mean()\n",
    "non_lengedary_mean=non_legendary[\"Total\"].mean()\n",
    "\n",
    "print(lengedary_mean,non_lengedary_mean)"
   ]
  },
  {
   "cell_type": "markdown",
   "metadata": {},
   "source": [
    "The computation of the mean might give us a clue regarding how the statistical test may turn out; However, it certainly does not prove whether there is a significant difference between the two groups.\n",
    "\n",
    "In the cell below, use the `ttest_ind` function in `scipy.stats` to compare the the total points for legendary and non-legendary Pokemon. Since we do not have any information about the population, assume the variances are not equal."
   ]
  },
  {
   "cell_type": "code",
   "execution_count": 38,
   "metadata": {},
   "outputs": [],
   "source": [
    "# Your code here:\n",
    "\n",
    "# H0: delta mu = 0 \n",
    "# H1: delta x != 0 \n",
    "\n",
    "\n",
    "#Significance level\n",
    "\n",
    "alpha =0.05\n",
    "\n",
    "# Calculation of statistics and and p_value (below)\n",
    "\n",
    "delta_mu=0\n",
    "delta_x=lengedary_mean-non_lengedary_mean\n",
    "\n",
    "lengedary_var=legendary[\"Total\"].var()\n",
    "non_lengedary_var=non_legendary[\"Total\"].var()\n",
    "\n",
    "legendary_len=len(legendary[\"Total\"])\n",
    "non_legendary_len=len(non_legendary[\"Total\"])\n",
    "\n",
    "\n",
    "t_stat=(delta_x-delta_mu)/np.sqrt((lengedary_var)/(legendary_len)+(non_lengedary_var)/(non_legendary_len))\n",
    "\n",
    "t_dist=st.t(df=legendary_len+non_legendary_len-2)\n",
    "\n",
    "\n",
    "p_value=t_dist.sf(t_stat)*2\n",
    "\n",
    "# t_stat equal to t_stat calculated below with python formula"
   ]
  },
  {
   "cell_type": "code",
   "execution_count": 40,
   "metadata": {},
   "outputs": [
    {
     "data": {
      "text/plain": [
       "Ttest_indResult(statistic=25.8335743895517, pvalue=9.357954335957446e-47)"
      ]
     },
     "execution_count": 40,
     "metadata": {},
     "output_type": "execute_result"
    }
   ],
   "source": [
    "# Python way\n",
    "\n",
    "st.ttest_ind(legendary[\"Total\"],non_legendary[\"Total\"],equal_var=False)"
   ]
  },
  {
   "cell_type": "markdown",
   "metadata": {},
   "source": [
    "What do you conclude from this test? Write your conclusions below."
   ]
  },
  {
   "cell_type": "code",
   "execution_count": 39,
   "metadata": {},
   "outputs": [
    {
     "name": "stdout",
     "output_type": "stream",
     "text": [
      "Since p_value is lower than the significance level, you can reject the null hyp, i.e., we have evidence to say that they are not equal, with a confidence of 95% \n"
     ]
    }
   ],
   "source": [
    "# Your conclusions here:\n",
    "\n",
    "# Decision\n",
    "\n",
    "p_value<alpha\n",
    "\n",
    "print(\"Since p_value is lower than the significance level, you can reject the null hyp, i.e., we have evidence to say that they are not equal, with a confidence of 95% \")\n"
   ]
  },
  {
   "cell_type": "markdown",
   "metadata": {},
   "source": [
    "How about we try to compare the different types of pokemon? In the cell below, list the types of Pokemon from column `Type 1` and the count of each type."
   ]
  },
  {
   "cell_type": "code",
   "execution_count": 45,
   "metadata": {},
   "outputs": [],
   "source": [
    "# Your code here:\n",
    "\n",
    "unique_types=pokemon[\"Type 1\"].unique()"
   ]
  },
  {
   "cell_type": "code",
   "execution_count": 94,
   "metadata": {},
   "outputs": [],
   "source": [
    "def compare (data):\n",
    "\n",
    "    sample_1=data[data[\"Type 1\"]==\"Water\"]\n",
    "\n",
    "    unique_types=pokemon[\"Type 1\"].unique()\n",
    "\n",
    "    alpha =0.05\n",
    "\n",
    "    for element in unique_types:\n",
    "\n",
    "        # Calculation of statistics and and p_value (below)\n",
    "\n",
    "        sample_2=data[data[\"Type 2\"]==element]\n",
    "\n",
    "        sample_1_mean=sample_1[\"Total\"].mean()\n",
    "        sample_2_mean=sample_2[\"Total\"].mean()\n",
    "\n",
    "        delta_mu=0\n",
    "        delta_x=sample_1_mean-sample_2_mean\n",
    "\n",
    "        sample_1_var=sample_1[\"Total\"].var()\n",
    "        sample_2_var=sample_2[\"Total\"].var()\n",
    "\n",
    "        sample_1_len=len(sample_1[\"Total\"])\n",
    "        sample_2_len=len(sample_2[\"Total\"])\n",
    "\n",
    "\n",
    "        t_stat=(delta_x-delta_mu)/np.sqrt((sample_1_var)/(sample_1_len)+(sample_2_var)/(sample_2_len))\n",
    "\n",
    "        t_dist=st.t(df=sample_1_len+sample_2_len-2)\n",
    "\n",
    "\n",
    "        p_value=t_dist.sf(abs(t_stat))*2\n",
    "\n",
    "        print(\"p_value = {}\".format(p_value),\", t_stat = {}\".format(t_stat),\"--> \" + element + \" vs Water\")\n",
    "    \n",
    "    return p_value,t_stat\n",
    "\n",
    "        "
   ]
  },
  {
   "cell_type": "markdown",
   "metadata": {},
   "source": [
    "Since water is the largest group of Pokemon, compare the mean and standard deviation of water Pokemon to all other Pokemon."
   ]
  },
  {
   "cell_type": "code",
   "execution_count": 96,
   "metadata": {},
   "outputs": [
    {
     "name": "stdout",
     "output_type": "stream",
     "text": [
      "p_value = 0.32288879391996494 , t_stat = 0.9921716822178686 --> Grass vs Water\n",
      "p_value = 0.08976025518149033 , t_stat = -1.7102570517486073 --> Fire vs Water\n",
      "p_value = 0.6843799877568124 , t_stat = 0.40745010787002944 --> Water vs Water\n",
      "p_value = 0.4805114419770431 , t_stat = 0.7078248418081757 --> Bug vs Water\n",
      "p_value = 0.7148251751149992 , t_stat = 0.3662932513837641 --> Normal vs Water\n",
      "p_value = 0.11166221863585474 , t_stat = 1.600577190648203 --> Poison vs Water\n",
      "p_value = 0.6482370772016852 , t_stat = -0.45740279733065337 --> Electric vs Water\n",
      "p_value = 0.5423361874644634 , t_stat = -0.6107273981770492 --> Ground vs Water\n",
      "p_value = 0.7002680369731695 , t_stat = 0.3857907470838555 --> Fairy vs Water\n",
      "p_value = 3.11845665040383e-05 , t_stat = -4.309355326260446 --> Fighting vs Water\n",
      "p_value = 0.04860308449404408 , t_stat = -1.9890551367241471 --> Psychic vs Water\n",
      "p_value = 0.8558022117395597 , t_stat = -0.18209923003175374 --> Rock vs Water\n",
      "p_value = 0.9928880967155512 , t_stat = -0.008931557230665245 --> Ghost vs Water\n",
      "p_value = 0.003059841313453897 , t_stat = -3.02108174184118 --> Ice vs Water\n",
      "p_value = 0.006702490663027051 , t_stat = -2.7561795547997674 --> Dragon vs Water\n",
      "p_value = 0.06039356023810438 , t_stat = -1.8943980801017677 --> Dark vs Water\n",
      "p_value = 0.013822474563906333 , t_stat = -2.4951865842961696 --> Steel vs Water\n",
      "p_value = 0.17975766514026575 , t_stat = -1.3460531155806246 --> Flying vs Water\n"
     ]
    },
    {
     "data": {
      "text/plain": [
       "(0.17975766514026575, -1.3460531155806246)"
      ]
     },
     "execution_count": 96,
     "metadata": {},
     "output_type": "execute_result"
    }
   ],
   "source": [
    "# Your code here:\n",
    "\n",
    "compare(pokemon)"
   ]
  },
  {
   "cell_type": "code",
   "execution_count": 105,
   "metadata": {},
   "outputs": [
    {
     "name": "stdout",
     "output_type": "stream",
     "text": [
      "p_value = 0.6428687044745969 , t_stat = -0.4638681676327305 --> Water vs all the others\n"
     ]
    }
   ],
   "source": [
    "# Here is the comparison between Water pokemon and all the others\n",
    "\n",
    "data=pokemon\n",
    "\n",
    "sample_1=data[data[\"Type 1\"]==\"Water\"]\n",
    "\n",
    "sample_2=data[data[\"Type 1\"]!=\"Water\"]\n",
    "\n",
    "sample_1_mean=sample_1[\"Total\"].mean()\n",
    "sample_2_mean=sample_2[\"Total\"].mean()\n",
    "\n",
    "delta_mu=0\n",
    "delta_x=sample_1_mean-sample_2_mean\n",
    "\n",
    "sample_1_var=sample_1[\"Total\"].var()\n",
    "sample_2_var=sample_2[\"Total\"].var()\n",
    "\n",
    "sample_1_len=len(sample_1[\"Total\"])\n",
    "sample_2_len=len(sample_2[\"Total\"])\n",
    "\n",
    "\n",
    "t_stat=(delta_x-delta_mu)/np.sqrt((sample_1_var)/(sample_1_len)+(sample_2_var)/(sample_2_len))\n",
    "\n",
    "t_dist=st.t(df=sample_1_len+sample_2_len-2)\n",
    "\n",
    "\n",
    "p_value=t_dist.sf(abs(t_stat))*2\n",
    "\n",
    "print(\"p_value = {}\".format(p_value),\", t_stat = {}\".format(t_stat),\"--> Water vs all the others\")\n"
   ]
  },
  {
   "cell_type": "markdown",
   "metadata": {},
   "source": [
    "Perform a hypothesis test comparing the mean of total points for water Pokemon to all non-water Pokemon. Assume the variances are equal. "
   ]
  },
  {
   "cell_type": "code",
   "execution_count": 107,
   "metadata": {},
   "outputs": [
    {
     "data": {
      "text/plain": [
       "Ttest_indResult(statistic=-0.4418547448849676, pvalue=0.6587140317488793)"
      ]
     },
     "execution_count": 107,
     "metadata": {},
     "output_type": "execute_result"
    }
   ],
   "source": [
    "# Your code here:\n",
    "\n",
    "st.ttest_ind(data[data[\"Type 1\"]==\"Water\"][\"Total\"],data[data[\"Type 1\"]!=\"Water\"][\"Total\"])"
   ]
  },
  {
   "cell_type": "markdown",
   "metadata": {},
   "source": [
    "Write your conclusion below."
   ]
  },
  {
   "cell_type": "code",
   "execution_count": 108,
   "metadata": {},
   "outputs": [
    {
     "name": "stdout",
     "output_type": "stream",
     "text": [
      "If variances are equal the dispersion decreases, that's why the t_stats is lower and the p_value is higher\n"
     ]
    }
   ],
   "source": [
    "# Your conclusions here:\n",
    "\n",
    "print(\"If variances are equal the dispersion decreases, that's why the t_stats is lower and the p_value is higher\")"
   ]
  },
  {
   "cell_type": "markdown",
   "metadata": {},
   "source": [
    "# Challenge 2 - Matched Pairs Test\n",
    "\n",
    "In this challenge we will compare dependent samples of data describing our Pokemon. Our goal is to see whether there is a significant difference between each Pokemon's defense and attack scores. Our hypothesis is that the defense and attack scores are equal. In the cell below, import the `ttest_rel` function from `scipy.stats` and compare the two columns to see if there is a statistically significant difference between them."
   ]
  },
  {
   "cell_type": "code",
   "execution_count": 120,
   "metadata": {},
   "outputs": [
    {
     "name": "stdout",
     "output_type": "stream",
     "text": [
      "p_value = 1.7140303479358236e-05 , t_stat = -4.325566393330483 --> we can reject the null with a confidence of 95%\n"
     ]
    }
   ],
   "source": [
    "# Your code here:\n",
    "\n",
    "# H0: dif=0\n",
    "# H1: dif!=0\n",
    "\n",
    "# Significance level 0.05\n",
    "\n",
    "alpha=0.05\n",
    "\n",
    "# sample\n",
    "\n",
    "sample_dif=pokemon[\"Defense\"]-pokemon[\"Attack\"]\n",
    "\n",
    "sample_dif_mean=sample_dif.mean()\n",
    "\n",
    "sample_dif_std=sample_dif.std()\n",
    "\n",
    "sample_dif_distribution_std=sample_dif_std/np.sqrt(len(sample_dif))\n",
    "\n",
    "# Calculation satistics and p_value\n",
    "\n",
    "t_stat=sample_dif_mean/sample_dif_distribution_std\n",
    "\n",
    "t_stat\n",
    "\n",
    "t_dist=st.t(df=len(sample_dif)-1)\n",
    "\n",
    "p_value = t_dist.sf(abs(t_stat))*2\n",
    "\n",
    "p_value\n",
    "\n",
    "if p_value< alpha:\n",
    "    decision = \"we can reject the null with a confidence of 95%\"\n",
    "\n",
    "else: decision = \"we can not reject the null with a confidence of 95%\"\n",
    "\n",
    "\n",
    "print(\"p_value = {}\".format(p_value),\", t_stat = {}\".format(t_stat),\"--> \"+decision)\n"
   ]
  },
  {
   "cell_type": "code",
   "execution_count": 121,
   "metadata": {},
   "outputs": [
    {
     "data": {
      "text/plain": [
       "Ttest_relResult(statistic=-4.325566393330478, pvalue=1.7140303479358558e-05)"
      ]
     },
     "execution_count": 121,
     "metadata": {},
     "output_type": "execute_result"
    }
   ],
   "source": [
    "#Python way\n",
    "st.ttest_rel(pokemon[\"Defense\"],pokemon[\"Attack\"])"
   ]
  },
  {
   "cell_type": "markdown",
   "metadata": {},
   "source": [
    "Describe the results of the test in the cell below."
   ]
  },
  {
   "cell_type": "code",
   "execution_count": 123,
   "metadata": {},
   "outputs": [
    {
     "name": "stdout",
     "output_type": "stream",
     "text": [
      "p_value = 1.7140303479358236e-05 , t_stat = -4.325566393330483 --> we can reject the null with a confidence of 95%\n"
     ]
    }
   ],
   "source": [
    "# Your conclusions here:\n",
    "\n",
    "print(\"p_value = {}\".format(p_value),\", t_stat = {}\".format(t_stat),\"--> \"+decision)"
   ]
  },
  {
   "cell_type": "markdown",
   "metadata": {},
   "source": [
    "We are also curious about whether therer is a significant difference between the mean of special defense and the mean of special attack. Perform the hypothesis test in the cell below. "
   ]
  },
  {
   "cell_type": "code",
   "execution_count": 125,
   "metadata": {},
   "outputs": [
    {
     "name": "stdout",
     "output_type": "stream",
     "text": [
      "p_value = 0.39336859975481153 , t_stat = 0.853986188453354 --> we can not reject the null with a confidence of 95%\n"
     ]
    }
   ],
   "source": [
    "# Your code here:\n",
    "\n",
    "# Your code here:\n",
    "\n",
    "# H0: dif=0\n",
    "# H1: dif!=0\n",
    "\n",
    "# Significance level 0.05\n",
    "\n",
    "alpha=0.05\n",
    "\n",
    "# sample\n",
    "\n",
    "sample_dif=pokemon[\"Sp. Atk\"]-pokemon[\"Sp. Def\"]\n",
    "\n",
    "sample_dif_mean=sample_dif.mean()\n",
    "\n",
    "sample_dif_std=sample_dif.std()\n",
    "\n",
    "sample_dif_distribution_std=sample_dif_std/np.sqrt(len(sample_dif))\n",
    "\n",
    "# Calculation satistics and p_value\n",
    "\n",
    "t_stat=sample_dif_mean/sample_dif_distribution_std\n",
    "\n",
    "t_stat\n",
    "\n",
    "t_dist=st.t(df=len(sample_dif)-1)\n",
    "\n",
    "p_value = t_dist.sf(abs(t_stat))*2\n",
    "\n",
    "p_value\n",
    "\n",
    "if p_value< alpha:\n",
    "    decision = \"we can reject the null with a confidence of 95%\"\n",
    "\n",
    "else: decision = \"we can not reject the null with a confidence of 95%\"\n",
    "\n",
    "\n",
    "print(\"p_value = {}\".format(p_value),\", t_stat = {}\".format(t_stat),\"--> \"+decision)\n"
   ]
  },
  {
   "cell_type": "code",
   "execution_count": 127,
   "metadata": {},
   "outputs": [
    {
     "data": {
      "text/plain": [
       "Ttest_relResult(statistic=0.853986188453353, pvalue=0.3933685997548122)"
      ]
     },
     "execution_count": 127,
     "metadata": {},
     "output_type": "execute_result"
    }
   ],
   "source": [
    "# Python way\n",
    "\n",
    "st.ttest_rel(pokemon[\"Sp. Atk\"],pokemon[\"Sp. Def\"])"
   ]
  },
  {
   "cell_type": "markdown",
   "metadata": {},
   "source": [
    "Describe the results of the test in the cell below."
   ]
  },
  {
   "cell_type": "code",
   "execution_count": 126,
   "metadata": {},
   "outputs": [
    {
     "name": "stdout",
     "output_type": "stream",
     "text": [
      "p_value = 0.39336859975481153 , t_stat = 0.853986188453354 --> we can not reject the null with a confidence of 95%\n"
     ]
    }
   ],
   "source": [
    "# Your conclusions here:\n",
    "print(\"p_value = {}\".format(p_value),\", t_stat = {}\".format(t_stat),\"--> \"+decision)"
   ]
  },
  {
   "cell_type": "markdown",
   "metadata": {},
   "source": [
    "As you may recall, a two sample matched pairs test can also be expressed as a one sample test of the difference between the two dependent columns.\n",
    "\n",
    "Import the `ttest_1samp` function and perform a one sample t-test of the difference between defense and attack. Test the hypothesis that the difference between the means is zero. Confirm that the results of the test are the same."
   ]
  },
  {
   "cell_type": "code",
   "execution_count": 132,
   "metadata": {},
   "outputs": [
    {
     "data": {
      "text/plain": [
       "Ttest_1sampResult(statistic=0.853986188453353, pvalue=0.3933685997548122)"
      ]
     },
     "execution_count": 132,
     "metadata": {},
     "output_type": "execute_result"
    }
   ],
   "source": [
    "# Your code here:\n",
    "    \n",
    "dif=pokemon[\"Sp. Atk\"]-pokemon[\"Sp. Def\"]\n",
    "st.ttest_1samp(dif,popmean=0)"
   ]
  },
  {
   "cell_type": "markdown",
   "metadata": {},
   "source": [
    "# Bonus Challenge - The Chi-Square Test\n",
    "\n",
    "The Chi-Square test is used to determine whether there is a statistically significant difference in frequencies. In other words, we are testing whether there is a relationship between categorical variables or rather when the variables are independent. This test is an alternative to Fisher's exact test and is used in scenarios where sample sizes are larger. However, with a large enough sample size, both tests produce similar results. Read more about the Chi Squared test [here](https://en.wikipedia.org/wiki/Chi-squared_test).\n",
    "\n",
    "In the cell below, create a contingency table using `pd.crosstab` comparing whether a Pokemon is legenadary or not and whether the Type 1 of a Pokemon is water or not."
   ]
  },
  {
   "cell_type": "code",
   "execution_count": 176,
   "metadata": {},
   "outputs": [],
   "source": [
    "# Your code here:\n",
    "\n",
    "water=pokemon[\"Type 1\"]==\"Water\"\n",
    "\n",
    "table=pd.crosstab(pokemon[\"Legendary\"],water)"
   ]
  },
  {
   "cell_type": "markdown",
   "metadata": {},
   "source": [
    "Perform a chi-squared test using the `chi2_contingency` function in `scipy.stats`. You can read the documentation of the function [here](https://docs.scipy.org/doc/scipy-0.15.1/reference/generated/scipy.stats.chi2_contingency.html)."
   ]
  },
  {
   "cell_type": "code",
   "execution_count": 180,
   "metadata": {},
   "outputs": [
    {
     "data": {
      "text/plain": [
       "(2.9429200762850503,\n",
       " 0.08625467249550949,\n",
       " 1,\n",
       " array([[632.1, 102.9],\n",
       "        [ 55.9,   9.1]]))"
      ]
     },
     "execution_count": 180,
     "metadata": {},
     "output_type": "execute_result"
    }
   ],
   "source": [
    "# Your code here:\n",
    "\n",
    "# H0: features are independent\n",
    "# H1: features are not independent\n",
    "\n",
    "# Significance level\n",
    "\n",
    "alpha=0.05\n",
    "\n",
    "st.chi2_contingency(table)\n"
   ]
  },
  {
   "cell_type": "markdown",
   "metadata": {},
   "source": [
    "Based on a 95% confidence, should we reject the null hypothesis?"
   ]
  },
  {
   "cell_type": "code",
   "execution_count": null,
   "metadata": {},
   "outputs": [],
   "source": [
    "# Your answer here:\n",
    "\n",
    "print(\" Since p_value > than alpha value of 0.05, we can not reject the null hypothesis\")"
   ]
  }
 ],
 "metadata": {
  "kernelspec": {
   "display_name": "Python 3.9.7 ('base')",
   "language": "python",
   "name": "python3"
  },
  "language_info": {
   "codemirror_mode": {
    "name": "ipython",
    "version": 3
   },
   "file_extension": ".py",
   "mimetype": "text/x-python",
   "name": "python",
   "nbconvert_exporter": "python",
   "pygments_lexer": "ipython3",
   "version": "3.9.7"
  },
  "vscode": {
   "interpreter": {
    "hash": "40d3a090f54c6569ab1632332b64b2c03c39dcf918b08424e98f38b5ae0af88f"
   }
  }
 },
 "nbformat": 4,
 "nbformat_minor": 2
}
